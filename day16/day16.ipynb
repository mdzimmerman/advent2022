{
 "cells": [
  {
   "cell_type": "code",
   "execution_count": 21,
   "id": "0ce4834b-1301-4d86-bfe4-ab1d1ce5a730",
   "metadata": {},
   "outputs": [],
   "source": [
    "from collections import namedtuple\n",
    "from dataclasses import dataclass\n",
    "import re"
   ]
  },
  {
   "cell_type": "code",
   "execution_count": 53,
   "id": "580fb3a5-52c0-412c-92cb-b406eca50850",
   "metadata": {},
   "outputs": [
    {
     "name": "stdout",
     "output_type": "stream",
     "text": [
      "Valve(name='AA', flowrate=0, tunnels=['DD', 'II', 'BB'])\n",
      "Valve(name='BB', flowrate=13, tunnels=['CC', 'AA'])\n",
      "Valve(name='CC', flowrate=2, tunnels=['DD', 'BB'])\n",
      "Valve(name='DD', flowrate=20, tunnels=['CC', 'AA', 'EE'])\n",
      "Valve(name='EE', flowrate=3, tunnels=['FF', 'DD'])\n",
      "Valve(name='FF', flowrate=0, tunnels=['EE', 'GG'])\n",
      "Valve(name='GG', flowrate=0, tunnels=['FF', 'HH'])\n",
      "Valve(name='HH', flowrate=22, tunnels=['GG'])\n",
      "Valve(name='II', flowrate=0, tunnels=['AA', 'JJ'])\n",
      "Valve(name='JJ', flowrate=21, tunnels=['II'])\n",
      "\n",
      "  885 Step(valve='BB', minute=6, openvalves={'DD': 2, 'BB': 5})\n",
      "  885 Step(valve='CC', minute=7, openvalves={'DD': 2, 'BB': 5})\n",
      "  885 Step(valve='AA', minute=7, openvalves={'DD': 2, 'BB': 5})\n",
      "  885 Step(valve='II', minute=8, openvalves={'DD': 2, 'BB': 5})\n",
      "  885 Step(valve='JJ', minute=9, openvalves={'DD': 2, 'BB': 5})\n",
      " 1326 Step(valve='JJ', minute=10, openvalves={'DD': 2, 'BB': 5, 'JJ': 9})\n",
      " 1326 Step(valve='II', minute=11, openvalves={'DD': 2, 'BB': 5, 'JJ': 9})\n",
      " 1326 Step(valve='AA', minute=12, openvalves={'DD': 2, 'BB': 5, 'JJ': 9})\n"
     ]
    },
    {
     "data": {
      "text/plain": [
       "(1628,\n",
       " Step(valve='HH', minute=17, openvalves={'JJ': 3, 'BB': 7, 'DD': 10, 'EE': 12, 'HH': 16}))"
      ]
     },
     "execution_count": 53,
     "metadata": {},
     "output_type": "execute_result"
    }
   ],
   "source": [
    "@dataclass\n",
    "class Valve:\n",
    "    name: str\n",
    "    flowrate: int\n",
    "    tunnels: list[str]\n",
    "    \n",
    "    pat = re.compile(r\"Valve (.+) has flow rate=(\\d+); tunnels? leads? to valves? (.+)\")\n",
    "    \n",
    "    @classmethod\n",
    "    def parse(cls, s):\n",
    "        m = cls.pat.match(s)\n",
    "        if m:\n",
    "            valve = m.group(1)\n",
    "            flowrate = int(m.group(2))\n",
    "            tunnels = m.group(3).split(\", \")\n",
    "            return cls(valve, flowrate, tunnels)\n",
    "\n",
    "@dataclass(frozen=True)\n",
    "class State:\n",
    "    valve: str\n",
    "    openvalves: frozenset[str]\n",
    "\n",
    "Step = namedtuple(\"Step\", \"valve minute openvalves\")\n",
    "        \n",
    "class ValveSeq:\n",
    "    def __init__(self, valvelist):\n",
    "        self.vlist = valvelist\n",
    "        self.vindex = {}\n",
    "        for v in self.vlist:\n",
    "            self.vindex[v.name] = v\n",
    "            \n",
    "    def get(self, name):\n",
    "        return self.vindex[name]\n",
    "    \n",
    "    def totalpressure(self, openvalves):\n",
    "        return sum(self.vindex[k].flowrate * (30 - v) for k, v in openvalves.items())\n",
    "    \n",
    "    def traverse(self, startvalve, debug=False):\n",
    "        queue = []\n",
    "        queue.append(Step(startvalve, 1, {}))\n",
    "        visited = set()\n",
    "        visited.add(State(startvalve, frozenset()))\n",
    "        \n",
    "        maxstep = None\n",
    "        maxpressure = 0\n",
    "        \n",
    "        while queue:\n",
    "            s = queue.pop(0)\n",
    "            if s.minute > 30:\n",
    "                return maxpressure, maxstep\n",
    "            pressure = self.totalpressure(s.openvalves)\n",
    "            if debug:\n",
    "                if \"DD\" in s.openvalves and s.openvalves[\"DD\"] == 2 and \"BB\" in s.openvalves and s.openvalves[\"BB\"] == 5:\n",
    "                    print(f\"{pressure:5d} {s}\")\n",
    "            if pressure > maxpressure:\n",
    "                maxpressure = pressure\n",
    "                maxstep = s\n",
    "            neighbors = []\n",
    "            if s.valve not in s.openvalves and self.get(s.valve).flowrate > 0:\n",
    "                # don't bother opening valves that don't release pressure\n",
    "                neighbors.append(Step(s.valve, s.minute+1, s.openvalves | {s.valve: s.minute}))\n",
    "            for nvalve in self.get(s.valve).tunnels:\n",
    "                neighbors.append(Step(nvalve, s.minute+1, s.openvalves))\n",
    "            for ns in neighbors:\n",
    "                nstate = State(ns.valve, frozenset(ns.openvalves.keys()))\n",
    "                if nstate not in visited:\n",
    "                    visited.add(nstate)\n",
    "                    queue.append(ns)\n",
    "    \n",
    "        return maxpressure, maxstep\n",
    "    \n",
    "    @classmethod\n",
    "    def readfile(cls, filename):\n",
    "        out = []\n",
    "        with open(filename, \"r\") as fh:\n",
    "            for s in fh:\n",
    "                out.append(Valve.parse(s.strip()))\n",
    "        return cls(out)\n",
    "\n",
    "test = ValveSeq.readfile(\"test.txt\")\n",
    "for v in test.vlist:\n",
    "    print(v)\n",
    "print()\n",
    "test.traverse(\"AA\", debug=True)"
   ]
  },
  {
   "cell_type": "code",
   "execution_count": 17,
   "id": "6ab9065e-41a5-4294-9a1b-d416f96eec0b",
   "metadata": {},
   "outputs": [
    {
     "name": "stdout",
     "output_type": "stream",
     "text": [
      "State(valve='AA', openvalves=frozenset())\n",
      "State(valve='DD', openvalves=frozenset())\n",
      "State(valve='II', openvalves=frozenset())\n",
      "State(valve='BB', openvalves=frozenset())\n"
     ]
    }
   ],
   "source": [
    "@dataclass(frozen=True)\n",
    "class State:\n",
    "    valve: str\n",
    "    openvalves: frozenset[str]\n",
    "    \n",
    "    def neighbors(self, valveseq):\n",
    "\n",
    "\n",
    "s = State(\"AA\", frozenset())\n",
    "print(s)\n",
    "for ns in s.neighbors(test):\n",
    "    print(ns)"
   ]
  },
  {
   "cell_type": "code",
   "execution_count": null,
   "id": "ad233772-1d33-4a7c-9693-b7bebba77807",
   "metadata": {},
   "outputs": [],
   "source": []
  }
 ],
 "metadata": {
  "kernelspec": {
   "display_name": "Python 3 (ipykernel)",
   "language": "python",
   "name": "python3"
  },
  "language_info": {
   "codemirror_mode": {
    "name": "ipython",
    "version": 3
   },
   "file_extension": ".py",
   "mimetype": "text/x-python",
   "name": "python",
   "nbconvert_exporter": "python",
   "pygments_lexer": "ipython3",
   "version": "3.9.13"
  }
 },
 "nbformat": 4,
 "nbformat_minor": 5
}
