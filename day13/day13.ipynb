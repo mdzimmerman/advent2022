{
 "cells": [
  {
   "cell_type": "code",
   "execution_count": 45,
   "id": "ab9916f2-3736-44fa-941b-ff906b7b5c3a",
   "metadata": {},
   "outputs": [],
   "source": [
    "from collections import namedtuple\n",
    "from functools import cmp_to_key\n",
    "import json\n",
    "import sys\n",
    "\n",
    "if \"..\" not in sys.path:\n",
    "    sys.path.append(\"..\")\n",
    "\n",
    "import aoc"
   ]
  },
  {
   "cell_type": "code",
   "execution_count": 6,
   "id": "20342d42-1a49-4e3d-832e-7e3b4a24f116",
   "metadata": {},
   "outputs": [],
   "source": [
    "Pair = namedtuple(\"Pair\", \"left right\")"
   ]
  },
  {
   "cell_type": "code",
   "execution_count": 9,
   "id": "74446f1c-5576-4f5b-a2fb-0c158dc1f424",
   "metadata": {},
   "outputs": [
    {
     "data": {
      "text/plain": [
       "[Pair(left=[1, 1, 3, 1, 1], right=[1, 1, 5, 1, 1]),\n",
       " Pair(left=[[1], [2, 3, 4]], right=[[1], 4]),\n",
       " Pair(left=[9], right=[[8, 7, 6]]),\n",
       " Pair(left=[[4, 4], 4, 4], right=[[4, 4], 4, 4, 4]),\n",
       " Pair(left=[7, 7, 7, 7], right=[7, 7, 7]),\n",
       " Pair(left=[], right=[3]),\n",
       " Pair(left=[[[]]], right=[[]]),\n",
       " Pair(left=[1, [2, [3, [4, [5, 6, 7]]]], 8, 9], right=[1, [2, [3, [4, [5, 6, 0]]]], 8, 9])]"
      ]
     },
     "execution_count": 9,
     "metadata": {},
     "output_type": "execute_result"
    }
   ],
   "source": [
    "def read_data(filename):\n",
    "    return [Pair(json.loads(x[0]), json.loads(x[1])) \n",
    "            for x in aoc.splitlist(aoc.readlines(filename), \"\")]\n",
    "\n",
    "test = read_data(\"test.txt\")\n",
    "test"
   ]
  },
  {
   "cell_type": "code",
   "execution_count": 12,
   "id": "0c6df426-8475-4bf6-8610-b24683b0852a",
   "metadata": {},
   "outputs": [
    {
     "data": {
      "text/plain": [
       "int"
      ]
     },
     "execution_count": 12,
     "metadata": {},
     "output_type": "execute_result"
    }
   ],
   "source": [
    "type(test[0].left[0])"
   ]
  },
  {
   "cell_type": "code",
   "execution_count": 53,
   "id": "7e80d30a-bdb0-406d-83a0-3fb2985827e8",
   "metadata": {},
   "outputs": [
    {
     "data": {
      "text/plain": [
       "1"
      ]
     },
     "execution_count": 53,
     "metadata": {},
     "output_type": "execute_result"
    }
   ],
   "source": [
    "def compare(left, right):\n",
    "    tleft = type(left)\n",
    "    tright = type(right)\n",
    "    if tleft == int and tright == int:\n",
    "        if left == right:\n",
    "            return 0\n",
    "        elif left < right:\n",
    "            return 1\n",
    "        else:\n",
    "            return -1\n",
    "    if tleft == list and tright == int:\n",
    "        right = [right]\n",
    "    if tleft == int and tright == list:\n",
    "        left = [left]\n",
    "    for i in range(max(len(left), len(right))):\n",
    "        if i >= len(left):\n",
    "            return 1\n",
    "        if i >= len(right):\n",
    "            return -1\n",
    "        rv = compare(left[i], right[i])\n",
    "        if rv != 0:\n",
    "            return rv\n",
    "    return 0\n",
    "        \n",
    "compare(test[0].left, test[0].right)"
   ]
  },
  {
   "cell_type": "code",
   "execution_count": 54,
   "id": "fc7d658c-6021-45ce-bd10-090358133ca7",
   "metadata": {},
   "outputs": [
    {
     "name": "stdout",
     "output_type": "stream",
     "text": [
      "Pair(left=[1, 1, 3, 1, 1], right=[1, 1, 5, 1, 1]) 1\n",
      "Pair(left=[[1], [2, 3, 4]], right=[[1], 4]) 1\n",
      "Pair(left=[9], right=[[8, 7, 6]]) -1\n",
      "Pair(left=[[4, 4], 4, 4], right=[[4, 4], 4, 4, 4]) 1\n",
      "Pair(left=[7, 7, 7, 7], right=[7, 7, 7]) -1\n",
      "Pair(left=[], right=[3]) 1\n",
      "Pair(left=[[[]]], right=[[]]) -1\n",
      "Pair(left=[1, [2, [3, [4, [5, 6, 7]]]], 8, 9], right=[1, [2, [3, [4, [5, 6, 0]]]], 8, 9]) -1\n"
     ]
    },
    {
     "data": {
      "text/plain": [
       "13"
      ]
     },
     "execution_count": 54,
     "metadata": {},
     "output_type": "execute_result"
    }
   ],
   "source": [
    "def sum_indices(pairs, debug=False):\n",
    "    out = 0\n",
    "    for i, p in enumerate(pairs):\n",
    "        cmp = compare(p.left, p.right)\n",
    "        if debug: print(p, cmp)\n",
    "        if cmp == 1:\n",
    "            out += (i+1)\n",
    "    return out\n",
    "\n",
    "sum_indices(test, debug=True)"
   ]
  },
  {
   "cell_type": "code",
   "execution_count": 28,
   "id": "70603c11-56ac-4c2f-a4ae-7dc57f617e9e",
   "metadata": {},
   "outputs": [],
   "source": [
    "inp = read_data('input.txt')"
   ]
  },
  {
   "cell_type": "code",
   "execution_count": 55,
   "id": "aedd2ddb-097b-4536-9786-0dbbf52e78e7",
   "metadata": {},
   "outputs": [
    {
     "data": {
      "text/plain": [
       "6235"
      ]
     },
     "execution_count": 55,
     "metadata": {},
     "output_type": "execute_result"
    }
   ],
   "source": [
    "sum_indices(inp)"
   ]
  },
  {
   "cell_type": "code",
   "execution_count": 64,
   "id": "9127ecd3-74bf-4541-bee9-ddff7774bc77",
   "metadata": {},
   "outputs": [
    {
     "name": "stdout",
     "output_type": "stream",
     "text": [
      "[]\n",
      "[[]]\n",
      "[[[]]]\n",
      "[1, 1, 3, 1, 1]\n",
      "[1, 1, 5, 1, 1]\n",
      "[[1], [2, 3, 4]]\n",
      "[1, [2, [3, [4, [5, 6, 0]]]], 8, 9]\n",
      "[1, [2, [3, [4, [5, 6, 7]]]], 8, 9]\n",
      "[[1], 4]\n",
      "[[2]]\n",
      "[3]\n",
      "[[4, 4], 4, 4]\n",
      "[[4, 4], 4, 4, 4]\n",
      "[[6]]\n",
      "[7, 7, 7]\n",
      "[7, 7, 7, 7]\n",
      "[[8, 7, 6]]\n",
      "[9]\n"
     ]
    },
    {
     "data": {
      "text/plain": [
       "140"
      ]
     },
     "execution_count": 64,
     "metadata": {},
     "output_type": "execute_result"
    }
   ],
   "source": [
    "def part2(pairs, debug=False):\n",
    "    pall = [*[x.left for x in pairs], *[x.right for x in pairs], [[2]], [[6]]] \n",
    "    inorder = list(reversed(sorted(pall, key=cmp_to_key(compare))))\n",
    "    s1 = 0\n",
    "    s2 = 0\n",
    "    for i, p in enumerate(inorder):\n",
    "        if debug: print(p)\n",
    "        if str(p) == \"[[2]]\":\n",
    "            s1 = i+1\n",
    "        elif str(p) == \"[[6]]\":\n",
    "            s2 = i+1\n",
    "    return(s1 * s2)\n",
    "\n",
    "part2(test, debug=True)"
   ]
  },
  {
   "cell_type": "code",
   "execution_count": 65,
   "id": "fa123517-cacc-4ebe-bdd4-e1ac0a4d628e",
   "metadata": {},
   "outputs": [
    {
     "data": {
      "text/plain": [
       "22866"
      ]
     },
     "execution_count": 65,
     "metadata": {},
     "output_type": "execute_result"
    }
   ],
   "source": [
    "part2(inp)"
   ]
  },
  {
   "cell_type": "code",
   "execution_count": null,
   "id": "bfc90a95-9311-4801-8fcb-9593ed06ee35",
   "metadata": {},
   "outputs": [],
   "source": []
  }
 ],
 "metadata": {
  "kernelspec": {
   "display_name": "Python 3 (ipykernel)",
   "language": "python",
   "name": "python3"
  },
  "language_info": {
   "codemirror_mode": {
    "name": "ipython",
    "version": 3
   },
   "file_extension": ".py",
   "mimetype": "text/x-python",
   "name": "python",
   "nbconvert_exporter": "python",
   "pygments_lexer": "ipython3",
   "version": "3.9.13"
  }
 },
 "nbformat": 4,
 "nbformat_minor": 5
}
