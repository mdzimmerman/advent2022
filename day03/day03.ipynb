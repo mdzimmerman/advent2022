{
 "cells": [
  {
   "cell_type": "code",
   "execution_count": 15,
   "id": "7c80ed4b-3c01-48d0-97cb-ae2158b26efe",
   "metadata": {},
   "outputs": [],
   "source": [
    "import string"
   ]
  },
  {
   "cell_type": "code",
   "execution_count": 3,
   "id": "65d6c451-e8b1-4108-b5e8-05f34dacef17",
   "metadata": {},
   "outputs": [
    {
     "data": {
      "text/plain": [
       "['vJrwpWtwJgWrhcsFMMfFFhFp',\n",
       " 'jqHRNqRjqzjGDLGLrsFMfFZSrLrFZsSL',\n",
       " 'PmmdzqPrVvPwwTWBwg',\n",
       " 'wMqvLMZHhHMvwLHjbvcjnnSBnvTQFn',\n",
       " 'ttgJtRGJQctTZtZT',\n",
       " 'CrZsJsPPZsGzwwsLwLmpwMDw']"
      ]
     },
     "execution_count": 3,
     "metadata": {},
     "output_type": "execute_result"
    }
   ],
   "source": [
    "def readfile(filename):\n",
    "    out=[]\n",
    "    with open(filename, \"r\") as fh:\n",
    "        for l in fh:\n",
    "            out.append(l.strip())\n",
    "    return out\n",
    "            \n",
    "test=readfile(\"test.txt\")\n",
    "test"
   ]
  },
  {
   "cell_type": "code",
   "execution_count": 21,
   "id": "23c38a84-4b82-4572-9ef1-4996b38fcb1d",
   "metadata": {},
   "outputs": [
    {
     "data": {
      "text/plain": [
       "31"
      ]
     },
     "execution_count": 21,
     "metadata": {},
     "output_type": "execute_result"
    }
   ],
   "source": [
    "def priority(c):\n",
    "    alphabet = string.ascii_lowercase + string.ascii_uppercase\n",
    "    return alphabet.find(c)+1\n",
    "\n",
    "priority('E')"
   ]
  },
  {
   "cell_type": "code",
   "execution_count": 23,
   "id": "3125d165-e209-4ad4-b443-896dbd3475aa",
   "metadata": {},
   "outputs": [
    {
     "data": {
      "text/plain": [
       "157"
      ]
     },
     "execution_count": 23,
     "metadata": {},
     "output_type": "execute_result"
    }
   ],
   "source": [
    "def getpri(l):\n",
    "    #print(l)\n",
    "    i=len(l)//2\n",
    "    a=set(l[:i])\n",
    "    b=set(l[i:])\n",
    "    c=\"\".join(a.intersection(b))\n",
    "    return priority(c)\n",
    "\n",
    "sum(getpri(l) for l in test)"
   ]
  },
  {
   "cell_type": "code",
   "execution_count": 26,
   "id": "4545aea0-42a4-4370-a18d-094cdcb4ba55",
   "metadata": {},
   "outputs": [
    {
     "data": {
      "text/plain": [
       "8088"
      ]
     },
     "execution_count": 26,
     "metadata": {},
     "output_type": "execute_result"
    }
   ],
   "source": [
    "inp = readfile(\"input.txt\")\n",
    "sum(getpri(l) for l in inp)"
   ]
  },
  {
   "cell_type": "code",
   "execution_count": 32,
   "id": "39dab7e5-af87-48ea-bbb9-000dee1dde0a",
   "metadata": {},
   "outputs": [
    {
     "data": {
      "text/plain": [
       "70"
      ]
     },
     "execution_count": 32,
     "metadata": {},
     "output_type": "execute_result"
    }
   ],
   "source": [
    "def grouped(xs, n):\n",
    "    return list(zip(*[iter(xs)] * n))\n",
    "\n",
    "def getbadge(xs):\n",
    "    b = \"\".join(set(xs[0]).intersection(set(xs[1])).intersection(set(xs[2])))\n",
    "    return priority(b)\n",
    "\n",
    "sum(getbadge(g) for g in grouped(test, 3))"
   ]
  },
  {
   "cell_type": "code",
   "execution_count": 33,
   "id": "b869e44e-7603-448a-934a-e1e783ba3cbe",
   "metadata": {},
   "outputs": [
    {
     "data": {
      "text/plain": [
       "2522"
      ]
     },
     "execution_count": 33,
     "metadata": {},
     "output_type": "execute_result"
    }
   ],
   "source": [
    "sum(getbadge(g) for g in grouped(inp, 3))"
   ]
  },
  {
   "cell_type": "code",
   "execution_count": null,
   "id": "a3448c24-1036-4887-9a40-c5bd210012b9",
   "metadata": {},
   "outputs": [],
   "source": []
  }
 ],
 "metadata": {
  "kernelspec": {
   "display_name": "Python 3 (ipykernel)",
   "language": "python",
   "name": "python3"
  },
  "language_info": {
   "codemirror_mode": {
    "name": "ipython",
    "version": 3
   },
   "file_extension": ".py",
   "mimetype": "text/x-python",
   "name": "python",
   "nbconvert_exporter": "python",
   "pygments_lexer": "ipython3",
   "version": "3.9.13"
  }
 },
 "nbformat": 4,
 "nbformat_minor": 5
}
