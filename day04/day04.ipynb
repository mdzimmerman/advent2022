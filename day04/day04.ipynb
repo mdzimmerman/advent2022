{
 "cells": [
  {
   "cell_type": "code",
   "execution_count": 8,
   "id": "3ec2beaf-8be9-4b1e-99cf-985c0036a4ea",
   "metadata": {},
   "outputs": [],
   "source": [
    "from dataclasses import dataclass\n",
    "import re"
   ]
  },
  {
   "cell_type": "code",
   "execution_count": 27,
   "id": "62fccc32-a444-4b47-b47a-13fcc589dad9",
   "metadata": {},
   "outputs": [],
   "source": [
    "@dataclass\n",
    "class Range:\n",
    "    x0: int\n",
    "    x1: int\n",
    " \n",
    "    def contains(self, other):\n",
    "        if other.x0 >= self.x0 and other.x1 <= self.x1:\n",
    "            return True\n",
    "        else:\n",
    "            return False\n",
    "        \n",
    "    def intersects(self, other):\n",
    "        if other.x1 < self.x0 or other.x0 > self.x1:\n",
    "            return False\n",
    "        else:\n",
    "            return True\n",
    "\n",
    "    re1 = re.compile(r\"(\\d+)-(\\d+)\")\n",
    "\n",
    "    @classmethod\n",
    "    def parse(cls, s):\n",
    "        m = Range.re1.match(s)\n",
    "        if m:\n",
    "            return cls(int(m.group(1)), int(m.group(2)))\n",
    "\n",
    "r37 = Range.parse(\"3-7\")\n",
    "r35 = Range(3,5)\n",
    "r13 = Range(1,3)\n",
    "r79 = Range(7,9)"
   ]
  },
  {
   "cell_type": "code",
   "execution_count": 16,
   "id": "cbd3822c-10de-40d2-9a2a-b954ad86405d",
   "metadata": {},
   "outputs": [
    {
     "data": {
      "text/plain": [
       "['2-4,6-8', '2-3,4-5', '5-7,7-9', '2-8,3-7', '6-6,4-6', '2-6,4-8']"
      ]
     },
     "execution_count": 16,
     "metadata": {},
     "output_type": "execute_result"
    }
   ],
   "source": [
    "def readfile(filename):\n",
    "    out = []\n",
    "    with open(filename, \"r\") as fh:\n",
    "        for l in fh:\n",
    "            out.append(l.strip())\n",
    "    return out\n",
    "\n",
    "test = readfile(\"test.txt\")\n",
    "test"
   ]
  },
  {
   "cell_type": "code",
   "execution_count": 22,
   "id": "20e6605f-29c9-4a6d-9e88-aae47f07a9c4",
   "metadata": {},
   "outputs": [
    {
     "data": {
      "text/plain": [
       "2"
      ]
     },
     "execution_count": 22,
     "metadata": {},
     "output_type": "execute_result"
    }
   ],
   "source": [
    "def count_redundant(ls):\n",
    "    count = 0\n",
    "    for l in ls:\n",
    "        a, b = [Range.parse(x) for x in l.split(\",\")]\n",
    "        if a.contains(b) or b.contains(a):\n",
    "            count += 1\n",
    "    return count\n",
    "\n",
    "count_redundant(test)"
   ]
  },
  {
   "cell_type": "code",
   "execution_count": 29,
   "id": "27d1a3dd-a8d5-48e5-a61e-448a87c5e94e",
   "metadata": {},
   "outputs": [
    {
     "data": {
      "text/plain": [
       "4"
      ]
     },
     "execution_count": 29,
     "metadata": {},
     "output_type": "execute_result"
    }
   ],
   "source": [
    "def count_overlaps(ls):\n",
    "    count = 0\n",
    "    for l in ls:\n",
    "        a, b = [Range.parse(x) for x in l.split(\",\")]\n",
    "        if a.intersects(b):\n",
    "            count += 1\n",
    "    return count\n",
    "            \n",
    "count_overlaps(test)"
   ]
  },
  {
   "cell_type": "code",
   "execution_count": 23,
   "id": "b3f2a80e-a1fa-4076-b3e5-59880ab0fa31",
   "metadata": {},
   "outputs": [
    {
     "data": {
      "text/plain": [
       "588"
      ]
     },
     "execution_count": 23,
     "metadata": {},
     "output_type": "execute_result"
    }
   ],
   "source": [
    "inp = readfile(\"input.txt\")\n",
    "count_redundant(inp)"
   ]
  },
  {
   "cell_type": "code",
   "execution_count": 30,
   "id": "7ed4386b-09ea-49f6-874f-849bf946acbd",
   "metadata": {},
   "outputs": [
    {
     "data": {
      "text/plain": [
       "911"
      ]
     },
     "execution_count": 30,
     "metadata": {},
     "output_type": "execute_result"
    }
   ],
   "source": [
    "count_overlaps(inp)"
   ]
  },
  {
   "cell_type": "code",
   "execution_count": null,
   "id": "12a25456-18df-454b-805b-4b9edb2103e5",
   "metadata": {},
   "outputs": [],
   "source": []
  }
 ],
 "metadata": {
  "kernelspec": {
   "display_name": "Python 3 (ipykernel)",
   "language": "python",
   "name": "python3"
  },
  "language_info": {
   "codemirror_mode": {
    "name": "ipython",
    "version": 3
   },
   "file_extension": ".py",
   "mimetype": "text/x-python",
   "name": "python",
   "nbconvert_exporter": "python",
   "pygments_lexer": "ipython3",
   "version": "3.9.13"
  }
 },
 "nbformat": 4,
 "nbformat_minor": 5
}
