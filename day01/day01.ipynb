{
 "cells": [
  {
   "cell_type": "code",
   "execution_count": 23,
   "metadata": {},
   "outputs": [
    {
     "name": "stdout",
     "output_type": "stream",
     "text": [
      "(3, 24000)\n",
      "45000\n"
     ]
    }
   ],
   "source": [
    "def read_inventory(file):\n",
    "    inventory=[[]]\n",
    "    with open(file, 'r') as fh:\n",
    "        for l in fh:\n",
    "            l = l.rstrip()\n",
    "            if l == \"\":\n",
    "                inventory.append([])\n",
    "            else:\n",
    "                inventory[-1].append(int(l))\n",
    "    #print(inventory)\n",
    "    return inventory\n",
    "\n",
    "def find_max(inventory):\n",
    "    imax, summax = None, 0\n",
    "    for i, inv in enumerate(inventory):\n",
    "        sumi = sum(inv)\n",
    "        if sumi > summax:\n",
    "            imax = i\n",
    "            summax = sumi\n",
    "    return imax, summax\n",
    "\n",
    "def find_sums(inventory):\n",
    "    return sum(sorted([sum(i) for i in inv])[-3:])\n",
    "    \n",
    "inv = read_inventory(\"test.txt\")\n",
    "print(find_max(inv))\n",
    "print(find_sums(inv))"
   ]
  },
  {
   "cell_type": "code",
   "execution_count": 24,
   "metadata": {},
   "outputs": [
    {
     "name": "stdout",
     "output_type": "stream",
     "text": [
      "(224, 68923)\n",
      "200044\n"
     ]
    }
   ],
   "source": [
    "inv = read_inventory(\"input.txt\")\n",
    "print(find_max(inv))\n",
    "print(find_sums(inv))"
   ]
  },
  {
   "cell_type": "code",
   "execution_count": null,
   "metadata": {},
   "outputs": [],
   "source": []
  }
 ],
 "metadata": {
  "kernelspec": {
   "display_name": "Python 3",
   "language": "python",
   "name": "python3"
  },
  "language_info": {
   "codemirror_mode": {
    "name": "ipython",
    "version": 3
   },
   "file_extension": ".py",
   "mimetype": "text/x-python",
   "name": "python",
   "nbconvert_exporter": "python",
   "pygments_lexer": "ipython3",
   "version": "3.7.6"
  }
 },
 "nbformat": 4,
 "nbformat_minor": 4
}
