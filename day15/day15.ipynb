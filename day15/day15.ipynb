{
 "cells": [
  {
   "cell_type": "code",
   "execution_count": 2,
   "id": "f7f987ec-e626-4c60-885f-a79d7ae6c0ec",
   "metadata": {},
   "outputs": [],
   "source": [
    "from dataclasses import dataclass\n",
    "import re"
   ]
  },
  {
   "cell_type": "code",
   "execution_count": 17,
   "id": "97080040-38ea-40ae-8c02-f52965558892",
   "metadata": {},
   "outputs": [],
   "source": [
    "@dataclass\n",
    "class Point:\n",
    "    x: int\n",
    "    y: int\n",
    "    \n",
    "    def distance(self, other):\n",
    "        return abs(self.x - other.x) + abs(self.y - other.y)\n",
    "\n",
    "class Sensor:\n",
    "    def __init__(self, sensor, cbeacon):\n",
    "        self.sensor  = sensor\n",
    "        self.cbeacon = cbeacon\n",
    "        self.cdistance = sensor.distance(cbeacon)\n",
    "        \n",
    "    def __repr__(self):\n",
    "        return f\"Sensor(sensor={self.sensor} cbeacon={self.cbeacon})\"\n",
    "        \n",
    "    pat = re.compile(r\"Sensor at x=(-?\\d+), y=(-?\\d+): closest beacon is at x=(-?\\d+), y=(-?\\d+)\")\n",
    "        \n",
    "    @classmethod\n",
    "    def from_string(cls, s):\n",
    "        m = cls.pat.match(s)\n",
    "        if m:\n",
    "            sensor  = Point(int(m.group(1)), int(m.group(2)))\n",
    "            cbeacon = Point(int(m.group(3)), int(m.group(4)))\n",
    "            return cls(sensor, cbeacon)\n",
    "        \n",
    "def from_file(filename):\n",
    "    out = []\n",
    "    with open(filename, \"r\") as fh:\n",
    "        for l in fh:\n",
    "            out.append(Sensor.from_string(l.strip()))\n",
    "    return out\n",
    "\n",
    "test = from_file(\"test.txt\")\n",
    "inp  = from_file(\"input.txt\")"
   ]
  },
  {
   "cell_type": "code",
   "execution_count": 18,
   "id": "32aa8b1d-d0aa-48d4-8e0d-5d3fbf8d9257",
   "metadata": {},
   "outputs": [
    {
     "name": "stdout",
     "output_type": "stream",
     "text": [
      "Sensor(sensor=Point(x=2, y=18) cbeacon=Point(x=-2, y=15)) 7\n",
      "Sensor(sensor=Point(x=9, y=16) cbeacon=Point(x=10, y=16)) 1\n",
      "Sensor(sensor=Point(x=13, y=2) cbeacon=Point(x=15, y=3)) 3\n",
      "Sensor(sensor=Point(x=12, y=14) cbeacon=Point(x=10, y=16)) 4\n",
      "Sensor(sensor=Point(x=10, y=20) cbeacon=Point(x=10, y=16)) 4\n",
      "Sensor(sensor=Point(x=14, y=17) cbeacon=Point(x=10, y=16)) 5\n",
      "Sensor(sensor=Point(x=8, y=7) cbeacon=Point(x=2, y=10)) 9\n",
      "Sensor(sensor=Point(x=2, y=0) cbeacon=Point(x=2, y=10)) 10\n",
      "Sensor(sensor=Point(x=0, y=11) cbeacon=Point(x=2, y=10)) 3\n",
      "Sensor(sensor=Point(x=20, y=14) cbeacon=Point(x=25, y=17)) 8\n",
      "Sensor(sensor=Point(x=17, y=20) cbeacon=Point(x=21, y=22)) 6\n",
      "Sensor(sensor=Point(x=16, y=7) cbeacon=Point(x=15, y=3)) 5\n",
      "Sensor(sensor=Point(x=14, y=3) cbeacon=Point(x=15, y=3)) 1\n",
      "Sensor(sensor=Point(x=20, y=1) cbeacon=Point(x=15, y=3)) 7\n"
     ]
    }
   ],
   "source": [
    "for s in test:\n",
    "    print(s, s.cdistance)"
   ]
  },
  {
   "cell_type": "code",
   "execution_count": 32,
   "id": "7e31ac8a-6ed4-4bd5-badb-18d637a05dbe",
   "metadata": {},
   "outputs": [
    {
     "name": "stdout",
     "output_type": "stream",
     "text": [
      "[[-2, 24]]\n"
     ]
    },
    {
     "data": {
      "text/plain": [
       "26"
      ]
     },
     "execution_count": 32,
     "metadata": {},
     "output_type": "execute_result"
    }
   ],
   "source": [
    "def merge_ranges(a):\n",
    "    b = []\n",
    "    for begin, end in sorted(a):\n",
    "        if b and b[-1][1] >= begin - 1:\n",
    "            b[-1][1] = max(b[-1][1], end)\n",
    "        else:\n",
    "            b.append([begin, end])\n",
    "    return b\n",
    "\n",
    "def find_ranges(sensors, y):\n",
    "    out = []\n",
    "    for s in sensors:\n",
    "        d1 = abs(y - s.sensor.y)\n",
    "        if d1 < s.cdistance:\n",
    "            d2 = s.cdistance - d1\n",
    "            xmin = s.sensor.x - d2\n",
    "            xmax = s.sensor.x + d2\n",
    "            out.append((xmin, xmax))\n",
    "    return merge_ranges(out)\n",
    "\n",
    "def part1(sensors, y):\n",
    "    out = find_ranges(sensors, y)\n",
    "    print(out)\n",
    "    return sum(x[1]-x[0] for x in out)\n",
    "        \n",
    "part1(test, 10)"
   ]
  },
  {
   "cell_type": "code",
   "execution_count": 33,
   "id": "eac57a26-9456-4cda-afaa-e4e59fde0e78",
   "metadata": {},
   "outputs": [
    {
     "name": "stdout",
     "output_type": "stream",
     "text": [
      "[[-208427, 4374240]]\n"
     ]
    },
    {
     "data": {
      "text/plain": [
       "4582667"
      ]
     },
     "execution_count": 33,
     "metadata": {},
     "output_type": "execute_result"
    }
   ],
   "source": [
    "part1(inp, 2_000_000)"
   ]
  },
  {
   "cell_type": "code",
   "execution_count": 39,
   "id": "468798c9-73cd-4e17-9154-ce78054633d4",
   "metadata": {},
   "outputs": [
    {
     "name": "stdout",
     "output_type": "stream",
     "text": [
      "14 11\n"
     ]
    },
    {
     "data": {
      "text/plain": [
       "56000011"
      ]
     },
     "execution_count": 39,
     "metadata": {},
     "output_type": "execute_result"
    }
   ],
   "source": [
    "def part2(sensors, ymax):\n",
    "    for y in range(ymax+1):\n",
    "        #if y % 10000 == 0:\n",
    "        #    print(y)\n",
    "        xs = find_ranges(sensors, y)\n",
    "        if len(xs) > 1:\n",
    "            x = xs[0][1]+1\n",
    "            print(x, y)\n",
    "            return x * 4_000_000 + y\n",
    "\n",
    "part2(test, 20)"
   ]
  },
  {
   "cell_type": "code",
   "execution_count": 40,
   "id": "58aa03b1-7035-4925-b51d-18f686b91188",
   "metadata": {},
   "outputs": [
    {
     "name": "stdout",
     "output_type": "stream",
     "text": [
      "2740279 2625406\n"
     ]
    },
    {
     "data": {
      "text/plain": [
       "10961118625406"
      ]
     },
     "execution_count": 40,
     "metadata": {},
     "output_type": "execute_result"
    }
   ],
   "source": [
    "part2(inp, 4_000_000)"
   ]
  },
  {
   "cell_type": "code",
   "execution_count": null,
   "id": "0e73cda5-3e00-4c94-8b8e-a2716b455520",
   "metadata": {},
   "outputs": [],
   "source": []
  }
 ],
 "metadata": {
  "kernelspec": {
   "display_name": "Python 3 (ipykernel)",
   "language": "python",
   "name": "python3"
  },
  "language_info": {
   "codemirror_mode": {
    "name": "ipython",
    "version": 3
   },
   "file_extension": ".py",
   "mimetype": "text/x-python",
   "name": "python",
   "nbconvert_exporter": "python",
   "pygments_lexer": "ipython3",
   "version": "3.9.13"
  }
 },
 "nbformat": 4,
 "nbformat_minor": 5
}
