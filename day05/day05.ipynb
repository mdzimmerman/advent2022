{
 "cells": [
  {
   "cell_type": "code",
   "execution_count": 40,
   "metadata": {},
   "outputs": [],
   "source": [
    "from collections import namedtuple\n",
    "import copy\n",
    "import re\n",
    "import sys\n",
    "\n",
    "if \"..\" not in sys.path:\n",
    "    sys.path.append(\"..\")\n",
    "\n",
    "import aoc"
   ]
  },
  {
   "cell_type": "code",
   "execution_count": 59,
   "metadata": {},
   "outputs": [
    {
     "name": "stdout",
     "output_type": "stream",
     "text": [
      "1: ['Q', 'M', 'G', 'C', 'L']\n",
      "2: ['R', 'D', 'L', 'C', 'T', 'F', 'H', 'G']\n",
      "3: ['V', 'J', 'F', 'N', 'M', 'T', 'W', 'R']\n",
      "4: ['J', 'F', 'D', 'V', 'Q', 'P']\n",
      "5: ['N', 'F', 'M', 'S', 'L', 'B', 'T']\n",
      "6: ['R', 'N', 'V', 'H', 'C', 'D', 'P']\n",
      "7: ['H', 'C', 'T']\n",
      "8: ['G', 'S', 'J', 'V', 'Z', 'N', 'H', 'P']\n",
      "9: ['Z', 'F', 'H', 'G']\n"
     ]
    },
    {
     "data": {
      "text/plain": [
       "'VCTFTJQCG'"
      ]
     },
     "execution_count": 59,
     "metadata": {},
     "output_type": "execute_result"
    }
   ],
   "source": [
    "inp = InputData(\"input.txt\")\n",
    "inp.\n",
    "inp.rearrange()"
   ]
  },
  {
   "cell_type": "code",
   "execution_count": 29,
   "metadata": {},
   "outputs": [
    {
     "name": "stdout",
     "output_type": "stream",
     "text": [
      "[Instruction(n=1, src=2, dst=1), Instruction(n=3, src=1, dst=3), Instruction(n=2, src=2, dst=1), Instruction(n=1, src=1, dst=2)]\n"
     ]
    }
   ],
   "source": []
  },
  {
   "cell_type": "code",
   "execution_count": null,
   "metadata": {},
   "outputs": [],
   "source": []
  }
 ],
 "metadata": {
  "kernelspec": {
   "display_name": "Python 3",
   "language": "python",
   "name": "python3"
  },
  "language_info": {
   "codemirror_mode": {
    "name": "ipython",
    "version": 3
   },
   "file_extension": ".py",
   "mimetype": "text/x-python",
   "name": "python",
   "nbconvert_exporter": "python",
   "pygments_lexer": "ipython3",
   "version": "3.7.3"
  }
 },
 "nbformat": 4,
 "nbformat_minor": 4
}
