{
 "cells": [
  {
   "cell_type": "code",
   "execution_count": 1,
   "id": "6cb97dcb-087a-4e02-8121-61a2905af94d",
   "metadata": {},
   "outputs": [],
   "source": [
    "from collections import namedtuple\n",
    "import sys\n",
    "\n",
    "import matplotlib.pyplot as plt\n",
    "import numpy as np"
   ]
  },
  {
   "cell_type": "code",
   "execution_count": 2,
   "id": "6de764b2-9607-4aad-8e6f-12fa3f3c52f0",
   "metadata": {},
   "outputs": [],
   "source": [
    "def readgrid(filename):\n",
    "    out = []\n",
    "    with open(filename, \"r\") as fh:\n",
    "        for l in fh:\n",
    "            out.append([c for c in l.strip()])\n",
    "    return np.array(out)"
   ]
  },
  {
   "cell_type": "code",
   "execution_count": 3,
   "id": "794b5f07-2535-404d-bc38-e779fce567c9",
   "metadata": {},
   "outputs": [],
   "source": [
    "test = readgrid(\"test.txt\")"
   ]
  },
  {
   "cell_type": "code",
   "execution_count": 4,
   "id": "7d2f0745-4d80-49d7-9c72-47fd8ddab47b",
   "metadata": {},
   "outputs": [],
   "source": [
    "def f(c):\n",
    "    if c == 'S' or c == 'E':\n",
    "        return 30\n",
    "    else:\n",
    "        return ord(c) - ord('a')\n",
    "    \n",
    "vf = np.vectorize(f)"
   ]
  },
  {
   "cell_type": "code",
   "execution_count": 5,
   "id": "69f11407-fff7-4bab-8e7a-0eff8c73da12",
   "metadata": {},
   "outputs": [
    {
     "name": "stdout",
     "output_type": "stream",
     "text": [
      "[['S' 'a' 'b' 'q' 'p' 'o' 'n' 'm']\n",
      " ['a' 'b' 'c' 'r' 'y' 'x' 'x' 'l']\n",
      " ['a' 'c' 'c' 's' 'z' 'E' 'x' 'k']\n",
      " ['a' 'c' 'c' 't' 'u' 'v' 'w' 'j']\n",
      " ['a' 'b' 'd' 'e' 'f' 'g' 'h' 'i']]\n"
     ]
    }
   ],
   "source": [
    "print(test)"
   ]
  },
  {
   "cell_type": "code",
   "execution_count": 6,
   "id": "7bc55132-46ad-40c4-a108-8c67085c56c0",
   "metadata": {},
   "outputs": [
    {
     "data": {
      "text/plain": [
       "<matplotlib.image.AxesImage at 0x23393416b20>"
      ]
     },
     "execution_count": 6,
     "metadata": {},
     "output_type": "execute_result"
    },
    {
     "data": {
      "image/png": "[encoded data removed]",
      "text/plain": [
       "<Figure size 640x480 with 1 Axes>"
      ]
     },
     "metadata": {},
     "output_type": "display_data"
    }
   ],
   "source": [
    "plt.imshow(vf(test))"
   ]
  },
  {
   "cell_type": "code",
   "execution_count": 7,
   "id": "e48f3e15-c084-4ddf-8a35-45e11cf5eb4e",
   "metadata": {},
   "outputs": [],
   "source": [
    "inp = readgrid(\"input.txt\")"
   ]
  },
  {
   "cell_type": "code",
   "execution_count": 8,
   "id": "2c8536d6-e4af-4a4a-9bab-65a1994e6a30",
   "metadata": {},
   "outputs": [
    {
     "data": {
      "text/plain": [
       "<matplotlib.image.AxesImage at 0x233934658b0>"
      ]
     },
     "execution_count": 8,
     "metadata": {},
     "output_type": "execute_result"
    },
    {
     "data": {
      "image/png": "[encoded data removed]",
      "text/plain": [
       "<Figure size 640x480 with 1 Axes>"
      ]
     },
     "metadata": {},
     "output_type": "display_data"
    }
   ],
   "source": [
    "plt.imshow(vf(inp))"
   ]
  },
  {
   "cell_type": "code",
   "execution_count": 9,
   "id": "497bd300-ca5d-4671-b76c-c0cb1fb5b00d",
   "metadata": {},
   "outputs": [],
   "source": [
    "Point = namedtuple(\"Point\", \"x y\")"
   ]
  },
  {
   "cell_type": "code",
   "execution_count": 10,
   "id": "2a5d7205-284a-43e5-8f09-9c8b889e8563",
   "metadata": {},
   "outputs": [
    {
     "data": {
      "text/plain": [
       "(array([20], dtype=int64), array([0], dtype=int64))"
      ]
     },
     "execution_count": 10,
     "metadata": {},
     "output_type": "execute_result"
    }
   ],
   "source": [
    "np.where(inp == 'S')"
   ]
  },
  {
   "cell_type": "code",
   "execution_count": 11,
   "id": "ce0a0f68-2e99-4a9a-8631-fdd2fb508af1",
   "metadata": {},
   "outputs": [
    {
     "data": {
      "text/plain": [
       "Point(x=0, y=20)"
      ]
     },
     "execution_count": 11,
     "metadata": {},
     "output_type": "execute_result"
    }
   ],
   "source": [
    "def findchar(grid, c):\n",
    "    out = np.where(grid == c)\n",
    "    y = out[0][0]\n",
    "    x = out[1][0]\n",
    "    return Point(x, y)\n",
    "\n",
    "findchar(inp, 'S')"
   ]
  },
  {
   "cell_type": "code",
   "execution_count": 12,
   "id": "fa90dd6a-4722-40fb-89d7-592b9c6b1fc3",
   "metadata": {},
   "outputs": [
    {
     "data": {
      "text/plain": [
       "Point(x=138, y=20)"
      ]
     },
     "execution_count": 12,
     "metadata": {},
     "output_type": "execute_result"
    }
   ],
   "source": [
    "findchar(inp, 'E')"
   ]
  },
  {
   "cell_type": "code",
   "execution_count": 13,
   "id": "4fd3b81d-c3d6-4220-9e86-e9126076c990",
   "metadata": {},
   "outputs": [],
   "source": [
    "def getraw(p, grid):\n",
    "    return grid[p.y,p.x]\n",
    "\n",
    "def get(p, grid):\n",
    "    h, w = grid.shape\n",
    "    if p.x >= 0 and p.x < w and p.y >= 0 and p.y < h:\n",
    "        pvalue = getraw(p, grid)\n",
    "        if pvalue == 'S':\n",
    "            return 'a'\n",
    "        elif pvalue == 'E':\n",
    "            return 'z'\n",
    "        else:\n",
    "            return pvalue\n",
    "    else:\n",
    "        return None"
   ]
  },
  {
   "cell_type": "code",
   "execution_count": 14,
   "id": "fecf647a-dc23-4baa-b7db-db6e1df8731d",
   "metadata": {},
   "outputs": [
    {
     "data": {
      "text/plain": [
       "[Point(x=0, y=19), Point(x=1, y=20), Point(x=0, y=21)]"
      ]
     },
     "execution_count": 14,
     "metadata": {},
     "output_type": "execute_result"
    }
   ],
   "source": [
    "def neighbors(p, grid, reverse=False):\n",
    "    out = []\n",
    "    pvalue = get(p, grid)\n",
    "    #print(pvalue)\n",
    "    for pn in [Point(p.x,p.y-1), Point(p.x+1,p.y), Point(p.x,p.y+1), Point(p.x-1,p.y)]:\n",
    "        a, b = pvalue, get(pn, grid)\n",
    "        if reverse:\n",
    "            a, b = b, a\n",
    "        if a is not None and b is not None and ord(b)-ord(a) <= 1:\n",
    "            out.append(pn)\n",
    "    return out\n",
    "\n",
    "neighbors(findchar(inp, 'S'), inp)"
   ]
  },
  {
   "cell_type": "code",
   "execution_count": 15,
   "id": "e9ecd54f-6045-4c62-b8cd-31ce96b2d622",
   "metadata": {},
   "outputs": [
    {
     "name": "stdout",
     "output_type": "stream",
     "text": [
      "Step(point=Point(x=0, y=0), nsteps=0) a\n",
      "Step(point=Point(x=1, y=0), nsteps=1) a\n",
      "Step(point=Point(x=0, y=1), nsteps=1) a\n",
      "Step(point=Point(x=2, y=0), nsteps=2) b\n",
      "Step(point=Point(x=1, y=1), nsteps=2) b\n",
      "Step(point=Point(x=0, y=2), nsteps=2) a\n",
      "Step(point=Point(x=2, y=1), nsteps=3) c\n",
      "Step(point=Point(x=1, y=2), nsteps=3) c\n",
      "Step(point=Point(x=0, y=3), nsteps=3) a\n",
      "Step(point=Point(x=2, y=2), nsteps=4) c\n",
      "Step(point=Point(x=1, y=3), nsteps=4) c\n",
      "Step(point=Point(x=0, y=4), nsteps=4) a\n",
      "Step(point=Point(x=2, y=3), nsteps=5) c\n",
      "Step(point=Point(x=1, y=4), nsteps=5) b\n",
      "Step(point=Point(x=2, y=4), nsteps=6) d\n",
      "Step(point=Point(x=3, y=4), nsteps=7) e\n",
      "Step(point=Point(x=4, y=4), nsteps=8) f\n",
      "Step(point=Point(x=5, y=4), nsteps=9) g\n",
      "Step(point=Point(x=6, y=4), nsteps=10) h\n",
      "Step(point=Point(x=7, y=4), nsteps=11) i\n",
      "Step(point=Point(x=7, y=3), nsteps=12) j\n",
      "Step(point=Point(x=7, y=2), nsteps=13) k\n",
      "Step(point=Point(x=7, y=1), nsteps=14) l\n",
      "Step(point=Point(x=7, y=0), nsteps=15) m\n",
      "Step(point=Point(x=6, y=0), nsteps=16) n\n",
      "Step(point=Point(x=5, y=0), nsteps=17) o\n",
      "Step(point=Point(x=4, y=0), nsteps=18) p\n",
      "Step(point=Point(x=3, y=0), nsteps=19) q\n",
      "Step(point=Point(x=3, y=1), nsteps=20) r\n",
      "Step(point=Point(x=3, y=2), nsteps=21) s\n",
      "Step(point=Point(x=3, y=3), nsteps=22) t\n",
      "Step(point=Point(x=4, y=3), nsteps=23) u\n",
      "Step(point=Point(x=5, y=3), nsteps=24) v\n",
      "Step(point=Point(x=6, y=3), nsteps=25) w\n",
      "Step(point=Point(x=6, y=2), nsteps=26) x\n",
      "Step(point=Point(x=6, y=1), nsteps=27) x\n",
      "Step(point=Point(x=5, y=1), nsteps=28) x\n",
      "Step(point=Point(x=4, y=1), nsteps=29) y\n",
      "Step(point=Point(x=4, y=2), nsteps=30) z\n",
      "Step(point=Point(x=5, y=2), nsteps=31) z\n"
     ]
    },
    {
     "data": {
      "text/plain": [
       "31"
      ]
     },
     "execution_count": 15,
     "metadata": {},
     "output_type": "execute_result"
    }
   ],
   "source": [
    "Step = namedtuple(\"Step\", \"point nsteps\")\n",
    "\n",
    "def bfs(grid, startc, endc, debug=False, reverse=False):\n",
    "    start = findchar(grid, startc)\n",
    "    visited = set()\n",
    "    visited.add(start)\n",
    "    queue = []\n",
    "    queue.append(Step(start, 0))\n",
    "\n",
    "    while queue:\n",
    "        s = queue.pop(0)\n",
    "        if debug:\n",
    "            print(s, get(s.point, grid))\n",
    "        if getraw(s.point, grid) == endc:\n",
    "            return(s.nsteps)\n",
    "\n",
    "        for n in neighbors(s.point, grid, reverse=reverse):\n",
    "            if n not in visited:\n",
    "                visited.add(n)\n",
    "                queue.append(Step(n, s.nsteps+1))\n",
    "\n",
    "def run1(grid, debug=False):\n",
    "    return bfs(grid, 'S', 'E', debug=debug)\n",
    "                \n",
    "run1(test, debug=True)"
   ]
  },
  {
   "cell_type": "code",
   "execution_count": 16,
   "id": "be692bbe-991d-4242-b786-754e4378b5d4",
   "metadata": {},
   "outputs": [
    {
     "data": {
      "text/plain": [
       "534"
      ]
     },
     "execution_count": 16,
     "metadata": {},
     "output_type": "execute_result"
    }
   ],
   "source": [
    "run1(inp)"
   ]
  },
  {
   "cell_type": "code",
   "execution_count": 18,
   "id": "0f54decd-ac11-4add-a71d-6cd126fc1c47",
   "metadata": {},
   "outputs": [
    {
     "data": {
      "text/plain": [
       "29"
      ]
     },
     "execution_count": 18,
     "metadata": {},
     "output_type": "execute_result"
    }
   ],
   "source": [
    "def run2(grid, debug=False):\n",
    "    return bfs(grid, 'E', 'a', debug=debug, reverse=True)\n",
    "\n",
    "run2(test)"
   ]
  },
  {
   "cell_type": "code",
   "execution_count": 19,
   "id": "d0c1e68c-dd28-4c9f-baac-4911d226ec57",
   "metadata": {},
   "outputs": [
    {
     "data": {
      "text/plain": [
       "525"
      ]
     },
     "execution_count": 19,
     "metadata": {},
     "output_type": "execute_result"
    }
   ],
   "source": [
    "run2(inp)"
   ]
  },
  {
   "cell_type": "code",
   "execution_count": null,
   "id": "0780d541-980f-43d0-9478-e02627decee5",
   "metadata": {},
   "outputs": [],
   "source": []
  }
 ],
 "metadata": {
  "kernelspec": {
   "display_name": "Python 3 (ipykernel)",
   "language": "python",
   "name": "python3"
  },
  "language_info": {
   "codemirror_mode": {
    "name": "ipython",
    "version": 3
   },
   "file_extension": ".py",
   "mimetype": "text/x-python",
   "name": "python",
   "nbconvert_exporter": "python",
   "pygments_lexer": "ipython3",
   "version": "3.9.13"
  }
 },
 "nbformat": 4,
 "nbformat_minor": 5
}
