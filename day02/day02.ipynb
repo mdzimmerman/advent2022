{
 "cells": [
  {
   "cell_type": "code",
   "execution_count": 12,
   "metadata": {},
   "outputs": [],
   "source": [
    "def iterfile(fh):\n",
    "    for l in fh:\n",
    "        yield l.strip().split(\" \")\n",
    "\n",
    "def readfile(filename):\n",
    "    with open(filename, 'r') as fh:\n",
    "        return [x for x in iterfile(fh)]\n",
    "    \n",
    "test=readfile(\"test.txt\")"
   ]
  },
  {
   "cell_type": "code",
   "execution_count": 41,
   "metadata": {},
   "outputs": [
    {
     "data": {
      "text/plain": [
       "15"
      ]
     },
     "execution_count": 41,
     "metadata": {},
     "output_type": "execute_result"
    }
   ],
   "source": [
    "abc={\"A\": 1, \"B\": 2, \"C\": 3}\n",
    "xyz={\"X\": 1, \"Y\": 2, \"Z\": 3}\n",
    "\n",
    "def play(r):\n",
    "    s0 = abc[r[0]]\n",
    "    s1 = xyz[r[1]]\n",
    "    return roshambo(s0, s1)\n",
    "    \n",
    "def roshambo(s0, s1, debug=False):\n",
    "    if debug:\n",
    "        print(s0, s1)\n",
    "    diff = s1-s0\n",
    "    if diff == 1 or diff == -2:\n",
    "        if debug: print(\"p1 wins\")\n",
    "        return s1 + 6\n",
    "    elif diff == 0:\n",
    "        if debug: print(\"tie\")\n",
    "        return s1 + 3\n",
    "    elif diff == -1 or diff == 2:\n",
    "        if debug: print(\"p0 wins\")\n",
    "        return s1\n",
    "    \n",
    "sum(play(r) for r in test)"
   ]
  },
  {
   "cell_type": "code",
   "execution_count": 35,
   "metadata": {},
   "outputs": [
    {
     "data": {
      "text/plain": [
       "11767"
      ]
     },
     "execution_count": 35,
     "metadata": {},
     "output_type": "execute_result"
    }
   ],
   "source": [
    "inp = readfile(\"input.txt\")\n",
    "sum(play(r) for r in inp)"
   ]
  },
  {
   "cell_type": "code",
   "execution_count": 45,
   "metadata": {},
   "outputs": [
    {
     "name": "stdout",
     "output_type": "stream",
     "text": [
      "1 1\n",
      "tie\n",
      "2 1\n",
      "p0 wins\n",
      "3 1\n",
      "p1 wins\n"
     ]
    },
    {
     "data": {
      "text/plain": [
       "[4, 1, 7]"
      ]
     },
     "execution_count": 45,
     "metadata": {},
     "output_type": "execute_result"
    }
   ],
   "source": [
    "def clamp(n):\n",
    "    return (n-1)%3+1\n",
    "\n",
    "def play2(r, debug=False):\n",
    "    s0 = abc[r[0]]\n",
    "    s1 = None\n",
    "    if r[1] == 'X':\n",
    "        # lose\n",
    "        s1 = clamp(s0-1)\n",
    "    elif r[1] == 'Y':\n",
    "        # tie\n",
    "        s1 = s0\n",
    "    else:\n",
    "        # win\n",
    "        s1 = clamp(s0+1)\n",
    "    return roshambo(s0, s1, debug)\n",
    "\n",
    "[play2(r, debug=True) for r in test]"
   ]
  },
  {
   "cell_type": "code",
   "execution_count": 46,
   "metadata": {},
   "outputs": [
    {
     "data": {
      "text/plain": [
       "13886"
      ]
     },
     "execution_count": 46,
     "metadata": {},
     "output_type": "execute_result"
    }
   ],
   "source": [
    "sum(play2(r) for r in inp)"
   ]
  },
  {
   "cell_type": "code",
   "execution_count": null,
   "metadata": {},
   "outputs": [],
   "source": []
  }
 ],
 "metadata": {
  "kernelspec": {
   "display_name": "Python 3",
   "language": "python",
   "name": "python3"
  },
  "language_info": {
   "codemirror_mode": {
    "name": "ipython",
    "version": 3
   },
   "file_extension": ".py",
   "mimetype": "text/x-python",
   "name": "python",
   "nbconvert_exporter": "python",
   "pygments_lexer": "ipython3",
   "version": "3.7.6"
  }
 },
 "nbformat": 4,
 "nbformat_minor": 5
}
